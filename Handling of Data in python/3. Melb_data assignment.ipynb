{
 "cells": [
  {
   "cell_type": "code",
   "execution_count": null,
   "id": "ae7d8842-2bac-4990-915c-275b216ac043",
   "metadata": {},
   "outputs": [],
   "source": [
    "# solve based on the problem definition given in the notepad\n",
    "# after solving check for mentor solution in Day 5 video at last 1 hour"
   ]
  }
 ],
 "metadata": {
  "kernelspec": {
   "display_name": "Python 3",
   "language": "python",
   "name": "python3"
  },
  "language_info": {
   "codemirror_mode": {
    "name": "ipython",
    "version": 3
   },
   "file_extension": ".py",
   "mimetype": "text/x-python",
   "name": "python",
   "nbconvert_exporter": "python",
   "pygments_lexer": "ipython3",
   "version": "3.8.8"
  }
 },
 "nbformat": 4,
 "nbformat_minor": 5
}
